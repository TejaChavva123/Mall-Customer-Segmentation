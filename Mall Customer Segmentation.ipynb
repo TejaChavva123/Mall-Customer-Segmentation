{
 "cells": [
  {
   "cell_type": "markdown",
   "id": "3b7dc38c",
   "metadata": {},
   "source": [
    "# Mall Customer Segmentation"
   ]
  },
  {
   "cell_type": "markdown",
   "id": "9d679e4c",
   "metadata": {},
   "source": [
    "**Importing all the necessary libraries**"
   ]
  },
  {
   "cell_type": "code",
   "execution_count": 1,
   "id": "f939b444",
   "metadata": {},
   "outputs": [],
   "source": [
    "import numpy as np\n",
    "import pandas as pd\n",
    "import matplotlib.pyplot as plt\n",
    "import seaborn as sns\n",
    "import missingno as mns\n",
    "import warnings\n",
    "warnings.filterwarnings('ignore')"
   ]
  },
  {
   "cell_type": "markdown",
   "id": "c8bdfa45",
   "metadata": {},
   "source": [
    "**Loading the dataset**"
   ]
  },
  {
   "cell_type": "code",
   "execution_count": 2,
   "id": "15b88b74",
   "metadata": {},
   "outputs": [],
   "source": [
    "df = pd.read_csv('C:\\\\Users\\\\91701\\\\Downloads\\\\Mall_Customers.csv')"
   ]
  },
  {
   "cell_type": "code",
   "execution_count": 3,
   "id": "941641bf",
   "metadata": {},
   "outputs": [
    {
     "data": {
      "text/html": [
       "<div>\n",
       "<style scoped>\n",
       "    .dataframe tbody tr th:only-of-type {\n",
       "        vertical-align: middle;\n",
       "    }\n",
       "\n",
       "    .dataframe tbody tr th {\n",
       "        vertical-align: top;\n",
       "    }\n",
       "\n",
       "    .dataframe thead th {\n",
       "        text-align: right;\n",
       "    }\n",
       "</style>\n",
       "<table border=\"1\" class=\"dataframe\">\n",
       "  <thead>\n",
       "    <tr style=\"text-align: right;\">\n",
       "      <th></th>\n",
       "      <th>CustomerID</th>\n",
       "      <th>Gender</th>\n",
       "      <th>Age</th>\n",
       "      <th>Annual Income (k$)</th>\n",
       "      <th>Spending Score (1-100)</th>\n",
       "    </tr>\n",
       "  </thead>\n",
       "  <tbody>\n",
       "    <tr>\n",
       "      <th>0</th>\n",
       "      <td>1</td>\n",
       "      <td>Male</td>\n",
       "      <td>19</td>\n",
       "      <td>15</td>\n",
       "      <td>39.0</td>\n",
       "    </tr>\n",
       "    <tr>\n",
       "      <th>1</th>\n",
       "      <td>2</td>\n",
       "      <td>Male</td>\n",
       "      <td>21</td>\n",
       "      <td>15</td>\n",
       "      <td>81.0</td>\n",
       "    </tr>\n",
       "    <tr>\n",
       "      <th>2</th>\n",
       "      <td>3</td>\n",
       "      <td>Female</td>\n",
       "      <td>20</td>\n",
       "      <td>16</td>\n",
       "      <td>6.0</td>\n",
       "    </tr>\n",
       "    <tr>\n",
       "      <th>3</th>\n",
       "      <td>4</td>\n",
       "      <td>Female</td>\n",
       "      <td>23</td>\n",
       "      <td>16</td>\n",
       "      <td>77.0</td>\n",
       "    </tr>\n",
       "    <tr>\n",
       "      <th>4</th>\n",
       "      <td>5</td>\n",
       "      <td>Female</td>\n",
       "      <td>31</td>\n",
       "      <td>17</td>\n",
       "      <td>40.0</td>\n",
       "    </tr>\n",
       "  </tbody>\n",
       "</table>\n",
       "</div>"
      ],
      "text/plain": [
       "   CustomerID  Gender  Age  Annual Income (k$)  Spending Score (1-100)\n",
       "0           1    Male   19                  15                    39.0\n",
       "1           2    Male   21                  15                    81.0\n",
       "2           3  Female   20                  16                     6.0\n",
       "3           4  Female   23                  16                    77.0\n",
       "4           5  Female   31                  17                    40.0"
      ]
     },
     "execution_count": 3,
     "metadata": {},
     "output_type": "execute_result"
    }
   ],
   "source": [
    "df.head()"
   ]
  },
  {
   "cell_type": "code",
   "execution_count": 4,
   "id": "d54e465c",
   "metadata": {},
   "outputs": [
    {
     "data": {
      "text/html": [
       "<div>\n",
       "<style scoped>\n",
       "    .dataframe tbody tr th:only-of-type {\n",
       "        vertical-align: middle;\n",
       "    }\n",
       "\n",
       "    .dataframe tbody tr th {\n",
       "        vertical-align: top;\n",
       "    }\n",
       "\n",
       "    .dataframe thead th {\n",
       "        text-align: right;\n",
       "    }\n",
       "</style>\n",
       "<table border=\"1\" class=\"dataframe\">\n",
       "  <thead>\n",
       "    <tr style=\"text-align: right;\">\n",
       "      <th></th>\n",
       "      <th>CustomerID</th>\n",
       "      <th>Gender</th>\n",
       "      <th>Age</th>\n",
       "      <th>Annual Income (k$)</th>\n",
       "      <th>Spending Score (1-100)</th>\n",
       "    </tr>\n",
       "  </thead>\n",
       "  <tbody>\n",
       "    <tr>\n",
       "      <th>195</th>\n",
       "      <td>196</td>\n",
       "      <td>Female</td>\n",
       "      <td>35</td>\n",
       "      <td>120</td>\n",
       "      <td>79.0</td>\n",
       "    </tr>\n",
       "    <tr>\n",
       "      <th>196</th>\n",
       "      <td>197</td>\n",
       "      <td>Female</td>\n",
       "      <td>45</td>\n",
       "      <td>126</td>\n",
       "      <td>28.0</td>\n",
       "    </tr>\n",
       "    <tr>\n",
       "      <th>197</th>\n",
       "      <td>198</td>\n",
       "      <td>Male</td>\n",
       "      <td>32</td>\n",
       "      <td>126</td>\n",
       "      <td>74.0</td>\n",
       "    </tr>\n",
       "    <tr>\n",
       "      <th>198</th>\n",
       "      <td>199</td>\n",
       "      <td>Male</td>\n",
       "      <td>32</td>\n",
       "      <td>137</td>\n",
       "      <td>18.0</td>\n",
       "    </tr>\n",
       "    <tr>\n",
       "      <th>199</th>\n",
       "      <td>200</td>\n",
       "      <td>Male</td>\n",
       "      <td>30</td>\n",
       "      <td>137</td>\n",
       "      <td>83.0</td>\n",
       "    </tr>\n",
       "  </tbody>\n",
       "</table>\n",
       "</div>"
      ],
      "text/plain": [
       "     CustomerID  Gender  Age  Annual Income (k$)  Spending Score (1-100)\n",
       "195         196  Female   35                 120                    79.0\n",
       "196         197  Female   45                 126                    28.0\n",
       "197         198    Male   32                 126                    74.0\n",
       "198         199    Male   32                 137                    18.0\n",
       "199         200    Male   30                 137                    83.0"
      ]
     },
     "execution_count": 4,
     "metadata": {},
     "output_type": "execute_result"
    }
   ],
   "source": [
    "df.tail()"
   ]
  },
  {
   "cell_type": "code",
   "execution_count": 5,
   "id": "6bbe0577",
   "metadata": {},
   "outputs": [
    {
     "data": {
      "text/plain": [
       "(200, 5)"
      ]
     },
     "execution_count": 5,
     "metadata": {},
     "output_type": "execute_result"
    }
   ],
   "source": [
    "df.shape"
   ]
  },
  {
   "cell_type": "code",
   "execution_count": 6,
   "id": "a90e8230",
   "metadata": {},
   "outputs": [
    {
     "data": {
      "text/plain": [
       "1000"
      ]
     },
     "execution_count": 6,
     "metadata": {},
     "output_type": "execute_result"
    }
   ],
   "source": [
    "df.size"
   ]
  },
  {
   "cell_type": "code",
   "execution_count": 7,
   "id": "a90025e9",
   "metadata": {},
   "outputs": [
    {
     "data": {
      "text/plain": [
       "CustomerID                  int64\n",
       "Gender                     object\n",
       "Age                         int64\n",
       "Annual Income (k$)          int64\n",
       "Spending Score (1-100)    float64\n",
       "dtype: object"
      ]
     },
     "execution_count": 7,
     "metadata": {},
     "output_type": "execute_result"
    }
   ],
   "source": [
    "df.dtypes"
   ]
  },
  {
   "cell_type": "code",
   "execution_count": 8,
   "id": "e5a6962b",
   "metadata": {},
   "outputs": [
    {
     "name": "stdout",
     "output_type": "stream",
     "text": [
      "<class 'pandas.core.frame.DataFrame'>\n",
      "RangeIndex: 200 entries, 0 to 199\n",
      "Data columns (total 5 columns):\n",
      " #   Column                  Non-Null Count  Dtype  \n",
      "---  ------                  --------------  -----  \n",
      " 0   CustomerID              200 non-null    int64  \n",
      " 1   Gender                  200 non-null    object \n",
      " 2   Age                     200 non-null    int64  \n",
      " 3   Annual Income (k$)      200 non-null    int64  \n",
      " 4   Spending Score (1-100)  198 non-null    float64\n",
      "dtypes: float64(1), int64(3), object(1)\n",
      "memory usage: 7.9+ KB\n"
     ]
    }
   ],
   "source": [
    "df.info()"
   ]
  },
  {
   "cell_type": "markdown",
   "id": "3c4ce4e5",
   "metadata": {},
   "source": [
    "**Statistics of data**"
   ]
  },
  {
   "cell_type": "code",
   "execution_count": 9,
   "id": "da7f2e63",
   "metadata": {},
   "outputs": [
    {
     "data": {
      "text/html": [
       "<div>\n",
       "<style scoped>\n",
       "    .dataframe tbody tr th:only-of-type {\n",
       "        vertical-align: middle;\n",
       "    }\n",
       "\n",
       "    .dataframe tbody tr th {\n",
       "        vertical-align: top;\n",
       "    }\n",
       "\n",
       "    .dataframe thead th {\n",
       "        text-align: right;\n",
       "    }\n",
       "</style>\n",
       "<table border=\"1\" class=\"dataframe\">\n",
       "  <thead>\n",
       "    <tr style=\"text-align: right;\">\n",
       "      <th></th>\n",
       "      <th>CustomerID</th>\n",
       "      <th>Age</th>\n",
       "      <th>Annual Income (k$)</th>\n",
       "      <th>Spending Score (1-100)</th>\n",
       "    </tr>\n",
       "  </thead>\n",
       "  <tbody>\n",
       "    <tr>\n",
       "      <th>count</th>\n",
       "      <td>200.000000</td>\n",
       "      <td>200.000000</td>\n",
       "      <td>200.000000</td>\n",
       "      <td>198.000000</td>\n",
       "    </tr>\n",
       "    <tr>\n",
       "      <th>mean</th>\n",
       "      <td>100.500000</td>\n",
       "      <td>38.850000</td>\n",
       "      <td>60.560000</td>\n",
       "      <td>50.202020</td>\n",
       "    </tr>\n",
       "    <tr>\n",
       "      <th>std</th>\n",
       "      <td>57.879185</td>\n",
       "      <td>13.969007</td>\n",
       "      <td>26.264721</td>\n",
       "      <td>25.953484</td>\n",
       "    </tr>\n",
       "    <tr>\n",
       "      <th>min</th>\n",
       "      <td>1.000000</td>\n",
       "      <td>18.000000</td>\n",
       "      <td>15.000000</td>\n",
       "      <td>1.000000</td>\n",
       "    </tr>\n",
       "    <tr>\n",
       "      <th>25%</th>\n",
       "      <td>50.750000</td>\n",
       "      <td>28.750000</td>\n",
       "      <td>41.500000</td>\n",
       "      <td>34.250000</td>\n",
       "    </tr>\n",
       "    <tr>\n",
       "      <th>50%</th>\n",
       "      <td>100.500000</td>\n",
       "      <td>36.000000</td>\n",
       "      <td>61.500000</td>\n",
       "      <td>50.000000</td>\n",
       "    </tr>\n",
       "    <tr>\n",
       "      <th>75%</th>\n",
       "      <td>150.250000</td>\n",
       "      <td>49.000000</td>\n",
       "      <td>78.000000</td>\n",
       "      <td>73.000000</td>\n",
       "    </tr>\n",
       "    <tr>\n",
       "      <th>max</th>\n",
       "      <td>200.000000</td>\n",
       "      <td>70.000000</td>\n",
       "      <td>137.000000</td>\n",
       "      <td>99.000000</td>\n",
       "    </tr>\n",
       "  </tbody>\n",
       "</table>\n",
       "</div>"
      ],
      "text/plain": [
       "       CustomerID         Age  Annual Income (k$)  Spending Score (1-100)\n",
       "count  200.000000  200.000000          200.000000              198.000000\n",
       "mean   100.500000   38.850000           60.560000               50.202020\n",
       "std     57.879185   13.969007           26.264721               25.953484\n",
       "min      1.000000   18.000000           15.000000                1.000000\n",
       "25%     50.750000   28.750000           41.500000               34.250000\n",
       "50%    100.500000   36.000000           61.500000               50.000000\n",
       "75%    150.250000   49.000000           78.000000               73.000000\n",
       "max    200.000000   70.000000          137.000000               99.000000"
      ]
     },
     "execution_count": 9,
     "metadata": {},
     "output_type": "execute_result"
    }
   ],
   "source": [
    "df.describe()"
   ]
  },
  {
   "cell_type": "markdown",
   "id": "8e720a48",
   "metadata": {},
   "source": [
    "**Checking for null or NaN Values**"
   ]
  },
  {
   "cell_type": "code",
   "execution_count": 10,
   "id": "743d584e",
   "metadata": {},
   "outputs": [
    {
     "data": {
      "text/plain": [
       "<AxesSubplot:>"
      ]
     },
     "execution_count": 10,
     "metadata": {},
     "output_type": "execute_result"
    },
    {
     "data": {
      "image/png": "[encoded data removed]",
      "text/plain": [
       "<Figure size 1800x720 with 3 Axes>"
      ]
     },
     "metadata": {
      "needs_background": "light"
     },
     "output_type": "display_data"
    }
   ],
   "source": [
    "mns.bar(df,color='lightgreen')"
   ]
  },
  {
   "cell_type": "code",
   "execution_count": 11,
   "id": "794d4702",
   "metadata": {},
   "outputs": [
    {
     "data": {
      "text/plain": [
       "CustomerID                0\n",
       "Gender                    0\n",
       "Age                       0\n",
       "Annual Income (k$)        0\n",
       "Spending Score (1-100)    2\n",
       "dtype: int64"
      ]
     },
     "execution_count": 11,
     "metadata": {},
     "output_type": "execute_result"
    }
   ],
   "source": [
    "df.isnull().sum()"
   ]
  },
  {
   "cell_type": "code",
   "execution_count": 12,
   "id": "977f8a9a",
   "metadata": {},
   "outputs": [
    {
     "data": {
      "text/plain": [
       "CustomerID                False\n",
       "Gender                    False\n",
       "Age                       False\n",
       "Annual Income (k$)        False\n",
       "Spending Score (1-100)     True\n",
       "dtype: bool"
      ]
     },
     "execution_count": 12,
     "metadata": {},
     "output_type": "execute_result"
    }
   ],
   "source": [
    "df.isna().any()"
   ]
  },
  {
   "cell_type": "code",
   "execution_count": 13,
   "id": "69059261",
   "metadata": {},
   "outputs": [
    {
     "data": {
      "text/html": [
       "<div>\n",
       "<style scoped>\n",
       "    .dataframe tbody tr th:only-of-type {\n",
       "        vertical-align: middle;\n",
       "    }\n",
       "\n",
       "    .dataframe tbody tr th {\n",
       "        vertical-align: top;\n",
       "    }\n",
       "\n",
       "    .dataframe thead th {\n",
       "        text-align: right;\n",
       "    }\n",
       "</style>\n",
       "<table border=\"1\" class=\"dataframe\">\n",
       "  <thead>\n",
       "    <tr style=\"text-align: right;\">\n",
       "      <th></th>\n",
       "      <th>CustomerID</th>\n",
       "      <th>Gender</th>\n",
       "      <th>Age</th>\n",
       "      <th>Annual Income (k$)</th>\n",
       "      <th>Spending Score (1-100)</th>\n",
       "    </tr>\n",
       "  </thead>\n",
       "  <tbody>\n",
       "    <tr>\n",
       "      <th>50</th>\n",
       "      <td>51</td>\n",
       "      <td>Female</td>\n",
       "      <td>49</td>\n",
       "      <td>42</td>\n",
       "      <td>NaN</td>\n",
       "    </tr>\n",
       "    <tr>\n",
       "      <th>77</th>\n",
       "      <td>78</td>\n",
       "      <td>Male</td>\n",
       "      <td>40</td>\n",
       "      <td>54</td>\n",
       "      <td>NaN</td>\n",
       "    </tr>\n",
       "  </tbody>\n",
       "</table>\n",
       "</div>"
      ],
      "text/plain": [
       "    CustomerID  Gender  Age  Annual Income (k$)  Spending Score (1-100)\n",
       "50          51  Female   49                  42                     NaN\n",
       "77          78    Male   40                  54                     NaN"
      ]
     },
     "execution_count": 13,
     "metadata": {},
     "output_type": "execute_result"
    }
   ],
   "source": [
    "df[df['Spending Score (1-100)'].isnull()]"
   ]
  },
  {
   "cell_type": "code",
   "execution_count": 14,
   "id": "437ed6e8",
   "metadata": {},
   "outputs": [],
   "source": [
    "x  = df[(df.Gender=='Female') & (df.Age==49)]['Spending Score (1-100)'].mean()"
   ]
  },
  {
   "cell_type": "code",
   "execution_count": 15,
   "id": "8b9a6bd1",
   "metadata": {},
   "outputs": [],
   "source": [
    "y = df[(df.Gender=='Male') & (df.Age==40)]['Spending Score (1-100)'].mean()"
   ]
  },
  {
   "cell_type": "code",
   "execution_count": 16,
   "id": "4c4314e6",
   "metadata": {},
   "outputs": [],
   "source": [
    "df.loc[50,'Spending Score (1-100)'] = x\n",
    "df.loc[77, 'Spending Score (1-100)'] = y"
   ]
  },
  {
   "cell_type": "code",
   "execution_count": 17,
   "id": "ae24fdbc",
   "metadata": {},
   "outputs": [
    {
     "data": {
      "text/html": [
       "<div>\n",
       "<style scoped>\n",
       "    .dataframe tbody tr th:only-of-type {\n",
       "        vertical-align: middle;\n",
       "    }\n",
       "\n",
       "    .dataframe tbody tr th {\n",
       "        vertical-align: top;\n",
       "    }\n",
       "\n",
       "    .dataframe thead th {\n",
       "        text-align: right;\n",
       "    }\n",
       "</style>\n",
       "<table border=\"1\" class=\"dataframe\">\n",
       "  <thead>\n",
       "    <tr style=\"text-align: right;\">\n",
       "      <th></th>\n",
       "      <th>CustomerID</th>\n",
       "      <th>Gender</th>\n",
       "      <th>Age</th>\n",
       "      <th>Annual Income (k$)</th>\n",
       "      <th>Spending Score (1-100)</th>\n",
       "    </tr>\n",
       "  </thead>\n",
       "  <tbody>\n",
       "    <tr>\n",
       "      <th>0</th>\n",
       "      <td>1</td>\n",
       "      <td>Male</td>\n",
       "      <td>19</td>\n",
       "      <td>15</td>\n",
       "      <td>39.0</td>\n",
       "    </tr>\n",
       "    <tr>\n",
       "      <th>1</th>\n",
       "      <td>2</td>\n",
       "      <td>Male</td>\n",
       "      <td>21</td>\n",
       "      <td>15</td>\n",
       "      <td>81.0</td>\n",
       "    </tr>\n",
       "    <tr>\n",
       "      <th>2</th>\n",
       "      <td>3</td>\n",
       "      <td>Female</td>\n",
       "      <td>20</td>\n",
       "      <td>16</td>\n",
       "      <td>6.0</td>\n",
       "    </tr>\n",
       "    <tr>\n",
       "      <th>3</th>\n",
       "      <td>4</td>\n",
       "      <td>Female</td>\n",
       "      <td>23</td>\n",
       "      <td>16</td>\n",
       "      <td>77.0</td>\n",
       "    </tr>\n",
       "    <tr>\n",
       "      <th>4</th>\n",
       "      <td>5</td>\n",
       "      <td>Female</td>\n",
       "      <td>31</td>\n",
       "      <td>17</td>\n",
       "      <td>40.0</td>\n",
       "    </tr>\n",
       "  </tbody>\n",
       "</table>\n",
       "</div>"
      ],
      "text/plain": [
       "   CustomerID  Gender  Age  Annual Income (k$)  Spending Score (1-100)\n",
       "0           1    Male   19                  15                    39.0\n",
       "1           2    Male   21                  15                    81.0\n",
       "2           3  Female   20                  16                     6.0\n",
       "3           4  Female   23                  16                    77.0\n",
       "4           5  Female   31                  17                    40.0"
      ]
     },
     "execution_count": 17,
     "metadata": {},
     "output_type": "execute_result"
    }
   ],
   "source": [
    "df.head()"
   ]
  },
  {
   "cell_type": "code",
   "execution_count": 18,
   "id": "d0e30e80",
   "metadata": {},
   "outputs": [
    {
     "data": {
      "text/html": [
       "<div>\n",
       "<style scoped>\n",
       "    .dataframe tbody tr th:only-of-type {\n",
       "        vertical-align: middle;\n",
       "    }\n",
       "\n",
       "    .dataframe tbody tr th {\n",
       "        vertical-align: top;\n",
       "    }\n",
       "\n",
       "    .dataframe thead th {\n",
       "        text-align: right;\n",
       "    }\n",
       "</style>\n",
       "<table border=\"1\" class=\"dataframe\">\n",
       "  <thead>\n",
       "    <tr style=\"text-align: right;\">\n",
       "      <th></th>\n",
       "      <th>CustomerID</th>\n",
       "      <th>Gender</th>\n",
       "      <th>Age</th>\n",
       "      <th>Annual Income (k$)</th>\n",
       "      <th>Spending Score (1-100)</th>\n",
       "    </tr>\n",
       "  </thead>\n",
       "  <tbody>\n",
       "    <tr>\n",
       "      <th>195</th>\n",
       "      <td>196</td>\n",
       "      <td>Female</td>\n",
       "      <td>35</td>\n",
       "      <td>120</td>\n",
       "      <td>79.0</td>\n",
       "    </tr>\n",
       "    <tr>\n",
       "      <th>196</th>\n",
       "      <td>197</td>\n",
       "      <td>Female</td>\n",
       "      <td>45</td>\n",
       "      <td>126</td>\n",
       "      <td>28.0</td>\n",
       "    </tr>\n",
       "    <tr>\n",
       "      <th>197</th>\n",
       "      <td>198</td>\n",
       "      <td>Male</td>\n",
       "      <td>32</td>\n",
       "      <td>126</td>\n",
       "      <td>74.0</td>\n",
       "    </tr>\n",
       "    <tr>\n",
       "      <th>198</th>\n",
       "      <td>199</td>\n",
       "      <td>Male</td>\n",
       "      <td>32</td>\n",
       "      <td>137</td>\n",
       "      <td>18.0</td>\n",
       "    </tr>\n",
       "    <tr>\n",
       "      <th>199</th>\n",
       "      <td>200</td>\n",
       "      <td>Male</td>\n",
       "      <td>30</td>\n",
       "      <td>137</td>\n",
       "      <td>83.0</td>\n",
       "    </tr>\n",
       "  </tbody>\n",
       "</table>\n",
       "</div>"
      ],
      "text/plain": [
       "     CustomerID  Gender  Age  Annual Income (k$)  Spending Score (1-100)\n",
       "195         196  Female   35                 120                    79.0\n",
       "196         197  Female   45                 126                    28.0\n",
       "197         198    Male   32                 126                    74.0\n",
       "198         199    Male   32                 137                    18.0\n",
       "199         200    Male   30                 137                    83.0"
      ]
     },
     "execution_count": 18,
     "metadata": {},
     "output_type": "execute_result"
    }
   ],
   "source": [
    "df.tail()"
   ]
  },
  {
   "cell_type": "code",
   "execution_count": 19,
   "id": "46eb8fae",
   "metadata": {},
   "outputs": [
    {
     "data": {
      "text/plain": [
       "CustomerID                0\n",
       "Gender                    0\n",
       "Age                       0\n",
       "Annual Income (k$)        0\n",
       "Spending Score (1-100)    0\n",
       "dtype: int64"
      ]
     },
     "execution_count": 19,
     "metadata": {},
     "output_type": "execute_result"
    }
   ],
   "source": [
    "df.isnull().sum()"
   ]
  },
  {
   "cell_type": "code",
   "execution_count": 20,
   "id": "9ebd0334",
   "metadata": {},
   "outputs": [
    {
     "data": {
      "text/plain": [
       "CustomerID                False\n",
       "Gender                    False\n",
       "Age                       False\n",
       "Annual Income (k$)        False\n",
       "Spending Score (1-100)    False\n",
       "dtype: bool"
      ]
     },
     "execution_count": 20,
     "metadata": {},
     "output_type": "execute_result"
    }
   ],
   "source": [
    "df.isna().any()"
   ]
  },
  {
   "cell_type": "markdown",
   "id": "d0cd0bbe",
   "metadata": {},
   "source": [
    "**All the null values are removed**"
   ]
  },
  {
   "cell_type": "markdown",
   "id": "21897e10",
   "metadata": {},
   "source": [
    "**Let us convert the categorical column into numerical column**"
   ]
  },
  {
   "cell_type": "code",
   "execution_count": 21,
   "id": "348d6a23",
   "metadata": {},
   "outputs": [],
   "source": [
    "from sklearn.preprocessing import LabelEncoder"
   ]
  },
  {
   "cell_type": "code",
   "execution_count": 22,
   "id": "44b247c8",
   "metadata": {},
   "outputs": [],
   "source": [
    "label = LabelEncoder()"
   ]
  },
  {
   "cell_type": "code",
   "execution_count": 23,
   "id": "05da4fb9",
   "metadata": {},
   "outputs": [],
   "source": [
    "df['Gender']= label.fit_transform(df['Gender'])"
   ]
  },
  {
   "cell_type": "code",
   "execution_count": 24,
   "id": "57bde4fe",
   "metadata": {},
   "outputs": [
    {
     "data": {
      "text/html": [
       "<div>\n",
       "<style scoped>\n",
       "    .dataframe tbody tr th:only-of-type {\n",
       "        vertical-align: middle;\n",
       "    }\n",
       "\n",
       "    .dataframe tbody tr th {\n",
       "        vertical-align: top;\n",
       "    }\n",
       "\n",
       "    .dataframe thead th {\n",
       "        text-align: right;\n",
       "    }\n",
       "</style>\n",
       "<table border=\"1\" class=\"dataframe\">\n",
       "  <thead>\n",
       "    <tr style=\"text-align: right;\">\n",
       "      <th></th>\n",
       "      <th>CustomerID</th>\n",
       "      <th>Gender</th>\n",
       "      <th>Age</th>\n",
       "      <th>Annual Income (k$)</th>\n",
       "      <th>Spending Score (1-100)</th>\n",
       "    </tr>\n",
       "  </thead>\n",
       "  <tbody>\n",
       "    <tr>\n",
       "      <th>0</th>\n",
       "      <td>1</td>\n",
       "      <td>1</td>\n",
       "      <td>19</td>\n",
       "      <td>15</td>\n",
       "      <td>39.0</td>\n",
       "    </tr>\n",
       "    <tr>\n",
       "      <th>1</th>\n",
       "      <td>2</td>\n",
       "      <td>1</td>\n",
       "      <td>21</td>\n",
       "      <td>15</td>\n",
       "      <td>81.0</td>\n",
       "    </tr>\n",
       "    <tr>\n",
       "      <th>2</th>\n",
       "      <td>3</td>\n",
       "      <td>0</td>\n",
       "      <td>20</td>\n",
       "      <td>16</td>\n",
       "      <td>6.0</td>\n",
       "    </tr>\n",
       "    <tr>\n",
       "      <th>3</th>\n",
       "      <td>4</td>\n",
       "      <td>0</td>\n",
       "      <td>23</td>\n",
       "      <td>16</td>\n",
       "      <td>77.0</td>\n",
       "    </tr>\n",
       "    <tr>\n",
       "      <th>4</th>\n",
       "      <td>5</td>\n",
       "      <td>0</td>\n",
       "      <td>31</td>\n",
       "      <td>17</td>\n",
       "      <td>40.0</td>\n",
       "    </tr>\n",
       "  </tbody>\n",
       "</table>\n",
       "</div>"
      ],
      "text/plain": [
       "   CustomerID  Gender  Age  Annual Income (k$)  Spending Score (1-100)\n",
       "0           1       1   19                  15                    39.0\n",
       "1           2       1   21                  15                    81.0\n",
       "2           3       0   20                  16                     6.0\n",
       "3           4       0   23                  16                    77.0\n",
       "4           5       0   31                  17                    40.0"
      ]
     },
     "execution_count": 24,
     "metadata": {},
     "output_type": "execute_result"
    }
   ],
   "source": [
    "df.head()"
   ]
  },
  {
   "cell_type": "markdown",
   "id": "bfa358a2",
   "metadata": {},
   "source": [
    "**Exploratory Data Analysis**"
   ]
  },
  {
   "cell_type": "code",
   "execution_count": 25,
   "id": "700d8bd0",
   "metadata": {},
   "outputs": [
    {
     "data": {
      "image/png": "[encoded data removed]",
      "text/plain": [
       "<Figure size 720x720 with 20 Axes>"
      ]
     },
     "metadata": {
      "needs_background": "light"
     },
     "output_type": "display_data"
    }
   ],
   "source": [
    "sns.pairplot(df.drop(columns='CustomerID'))\n",
    "plt.show()"
   ]
  },
  {
   "cell_type": "code",
   "execution_count": 26,
   "id": "a8acf7f3",
   "metadata": {},
   "outputs": [
    {
     "data": {
      "image/png": "[encoded data removed]",
      "text/plain": [
       "<Figure size 432x288 with 2 Axes>"
      ]
     },
     "metadata": {
      "needs_background": "light"
     },
     "output_type": "display_data"
    }
   ],
   "source": [
    "sns.heatmap(df.corr(),cmap='Blues',annot=True)\n",
    "plt.show()"
   ]
  },
  {
   "cell_type": "markdown",
   "id": "a2999c22",
   "metadata": {},
   "source": [
    "**Detecting Outliers**"
   ]
  },
  {
   "cell_type": "code",
   "execution_count": 27,
   "id": "1cd86721",
   "metadata": {},
   "outputs": [
    {
     "data": {
      "image/png": "[encoded data removed]",
      "text/plain": [
       "<Figure size 1080x360 with 1 Axes>"
      ]
     },
     "metadata": {
      "needs_background": "light"
     },
     "output_type": "display_data"
    }
   ],
   "source": [
    "plt.figure(figsize=(15,5))\n",
    "df.drop(columns='CustomerID').boxplot()\n",
    "plt.show()"
   ]
  },
  {
   "cell_type": "code",
   "execution_count": 28,
   "id": "9aff2475",
   "metadata": {},
   "outputs": [
    {
     "data": {
      "text/plain": [
       "103.0"
      ]
     },
     "execution_count": 28,
     "metadata": {},
     "output_type": "execute_result"
    }
   ],
   "source": [
    "df['Annual Income (k$)'].quantile(0.95)"
   ]
  },
  {
   "cell_type": "code",
   "execution_count": 29,
   "id": "799111ea",
   "metadata": {},
   "outputs": [],
   "source": [
    "df = df[df['Annual Income (k$)']<103.3]"
   ]
  },
  {
   "cell_type": "code",
   "execution_count": 30,
   "id": "e60475e6",
   "metadata": {},
   "outputs": [
    {
     "data": {
      "text/html": [
       "<div>\n",
       "<style scoped>\n",
       "    .dataframe tbody tr th:only-of-type {\n",
       "        vertical-align: middle;\n",
       "    }\n",
       "\n",
       "    .dataframe tbody tr th {\n",
       "        vertical-align: top;\n",
       "    }\n",
       "\n",
       "    .dataframe thead th {\n",
       "        text-align: right;\n",
       "    }\n",
       "</style>\n",
       "<table border=\"1\" class=\"dataframe\">\n",
       "  <thead>\n",
       "    <tr style=\"text-align: right;\">\n",
       "      <th></th>\n",
       "      <th>CustomerID</th>\n",
       "      <th>Gender</th>\n",
       "      <th>Age</th>\n",
       "      <th>Annual Income (k$)</th>\n",
       "      <th>Spending Score (1-100)</th>\n",
       "    </tr>\n",
       "  </thead>\n",
       "  <tbody>\n",
       "    <tr>\n",
       "      <th>0</th>\n",
       "      <td>1</td>\n",
       "      <td>1</td>\n",
       "      <td>19</td>\n",
       "      <td>15</td>\n",
       "      <td>39.0</td>\n",
       "    </tr>\n",
       "    <tr>\n",
       "      <th>1</th>\n",
       "      <td>2</td>\n",
       "      <td>1</td>\n",
       "      <td>21</td>\n",
       "      <td>15</td>\n",
       "      <td>81.0</td>\n",
       "    </tr>\n",
       "    <tr>\n",
       "      <th>2</th>\n",
       "      <td>3</td>\n",
       "      <td>0</td>\n",
       "      <td>20</td>\n",
       "      <td>16</td>\n",
       "      <td>6.0</td>\n",
       "    </tr>\n",
       "    <tr>\n",
       "      <th>3</th>\n",
       "      <td>4</td>\n",
       "      <td>0</td>\n",
       "      <td>23</td>\n",
       "      <td>16</td>\n",
       "      <td>77.0</td>\n",
       "    </tr>\n",
       "    <tr>\n",
       "      <th>4</th>\n",
       "      <td>5</td>\n",
       "      <td>0</td>\n",
       "      <td>31</td>\n",
       "      <td>17</td>\n",
       "      <td>40.0</td>\n",
       "    </tr>\n",
       "  </tbody>\n",
       "</table>\n",
       "</div>"
      ],
      "text/plain": [
       "   CustomerID  Gender  Age  Annual Income (k$)  Spending Score (1-100)\n",
       "0           1       1   19                  15                    39.0\n",
       "1           2       1   21                  15                    81.0\n",
       "2           3       0   20                  16                     6.0\n",
       "3           4       0   23                  16                    77.0\n",
       "4           5       0   31                  17                    40.0"
      ]
     },
     "execution_count": 30,
     "metadata": {},
     "output_type": "execute_result"
    }
   ],
   "source": [
    "df.head()"
   ]
  },
  {
   "cell_type": "code",
   "execution_count": 31,
   "id": "e2ab23ff",
   "metadata": {},
   "outputs": [
    {
     "data": {
      "text/plain": [
       "(192, 5)"
      ]
     },
     "execution_count": 31,
     "metadata": {},
     "output_type": "execute_result"
    }
   ],
   "source": [
    "df.shape"
   ]
  },
  {
   "cell_type": "code",
   "execution_count": 32,
   "id": "e0dcd04d",
   "metadata": {},
   "outputs": [],
   "source": [
    "x = df.iloc[:,[3,4]]"
   ]
  },
  {
   "cell_type": "markdown",
   "id": "7e16f07e",
   "metadata": {},
   "source": [
    "**Let us perform feature scaling**"
   ]
  },
  {
   "cell_type": "code",
   "execution_count": 33,
   "id": "fe11ae52",
   "metadata": {},
   "outputs": [],
   "source": [
    "from sklearn.preprocessing import MinMaxScaler"
   ]
  },
  {
   "cell_type": "code",
   "execution_count": 34,
   "id": "091e5e4b",
   "metadata": {},
   "outputs": [],
   "source": [
    "scale = MinMaxScaler()"
   ]
  },
  {
   "cell_type": "code",
   "execution_count": 35,
   "id": "388c6b1c",
   "metadata": {},
   "outputs": [],
   "source": [
    "x  = scale.fit_transform(x)"
   ]
  },
  {
   "cell_type": "code",
   "execution_count": 36,
   "id": "1bfd3b25",
   "metadata": {},
   "outputs": [
    {
     "data": {
      "text/plain": [
       "array([[0.        , 0.3877551 ],\n",
       "       [0.        , 0.81632653],\n",
       "       [0.01136364, 0.05102041],\n",
       "       [0.01136364, 0.7755102 ],\n",
       "       [0.02272727, 0.39795918],\n",
       "       [0.02272727, 0.76530612],\n",
       "       [0.03409091, 0.05102041],\n",
       "       [0.03409091, 0.94897959],\n",
       "       [0.04545455, 0.02040816],\n",
       "       [0.04545455, 0.7244898 ],\n",
       "       [0.04545455, 0.13265306],\n",
       "       [0.04545455, 1.        ],\n",
       "       [0.05681818, 0.14285714],\n",
       "       [0.05681818, 0.7755102 ],\n",
       "       [0.05681818, 0.12244898],\n",
       "       [0.05681818, 0.79591837],\n",
       "       [0.06818182, 0.34693878],\n",
       "       [0.06818182, 0.66326531],\n",
       "       [0.09090909, 0.28571429],\n",
       "       [0.09090909, 0.98979592],\n",
       "       [0.10227273, 0.34693878],\n",
       "       [0.10227273, 0.73469388],\n",
       "       [0.11363636, 0.04081633],\n",
       "       [0.11363636, 0.73469388],\n",
       "       [0.14772727, 0.13265306],\n",
       "       [0.14772727, 0.82653061],\n",
       "       [0.14772727, 0.31632653],\n",
       "       [0.14772727, 0.6122449 ],\n",
       "       [0.15909091, 0.30612245],\n",
       "       [0.15909091, 0.87755102],\n",
       "       [0.17045455, 0.03061224],\n",
       "       [0.17045455, 0.73469388],\n",
       "       [0.20454545, 0.03061224],\n",
       "       [0.20454545, 0.92857143],\n",
       "       [0.20454545, 0.13265306],\n",
       "       [0.20454545, 0.81632653],\n",
       "       [0.21590909, 0.16326531],\n",
       "       [0.21590909, 0.73469388],\n",
       "       [0.25      , 0.25510204],\n",
       "       [0.25      , 0.75510204],\n",
       "       [0.26136364, 0.34693878],\n",
       "       [0.26136364, 0.92857143],\n",
       "       [0.27272727, 0.35714286],\n",
       "       [0.27272727, 0.6122449 ],\n",
       "       [0.27272727, 0.2755102 ],\n",
       "       [0.27272727, 0.65306122],\n",
       "       [0.28409091, 0.55102041],\n",
       "       [0.28409091, 0.46938776],\n",
       "       [0.28409091, 0.41836735],\n",
       "       [0.28409091, 0.41836735],\n",
       "       [0.30681818, 0.37959184],\n",
       "       [0.30681818, 0.60204082],\n",
       "       [0.31818182, 0.54081633],\n",
       "       [0.31818182, 0.60204082],\n",
       "       [0.31818182, 0.44897959],\n",
       "       [0.31818182, 0.40816327],\n",
       "       [0.32954545, 0.5       ],\n",
       "       [0.32954545, 0.45918367],\n",
       "       [0.35227273, 0.51020408],\n",
       "       [0.35227273, 0.45918367],\n",
       "       [0.35227273, 0.56122449],\n",
       "       [0.35227273, 0.55102041],\n",
       "       [0.36363636, 0.52040816],\n",
       "       [0.36363636, 0.59183673],\n",
       "       [0.375     , 0.51020408],\n",
       "       [0.375     , 0.59183673],\n",
       "       [0.375     , 0.5       ],\n",
       "       [0.375     , 0.47959184],\n",
       "       [0.375     , 0.59183673],\n",
       "       [0.375     , 0.46938776],\n",
       "       [0.38636364, 0.55102041],\n",
       "       [0.38636364, 0.41836735],\n",
       "       [0.39772727, 0.48979592],\n",
       "       [0.39772727, 0.56122449],\n",
       "       [0.44318182, 0.46938776],\n",
       "       [0.44318182, 0.54081633],\n",
       "       [0.44318182, 0.53061224],\n",
       "       [0.44318182, 0.54081633],\n",
       "       [0.44318182, 0.52040816],\n",
       "       [0.44318182, 0.41836735],\n",
       "       [0.44318182, 0.51020408],\n",
       "       [0.44318182, 0.55102041],\n",
       "       [0.44318182, 0.40816327],\n",
       "       [0.44318182, 0.43877551],\n",
       "       [0.44318182, 0.57142857],\n",
       "       [0.44318182, 0.45918367],\n",
       "       [0.47727273, 0.58163265],\n",
       "       [0.47727273, 0.55102041],\n",
       "       [0.48863636, 0.60204082],\n",
       "       [0.48863636, 0.45918367],\n",
       "       [0.5       , 0.55102041],\n",
       "       [0.5       , 0.40816327],\n",
       "       [0.51136364, 0.48979592],\n",
       "       [0.51136364, 0.39795918],\n",
       "       [0.51136364, 0.41836735],\n",
       "       [0.51136364, 0.52040816],\n",
       "       [0.51136364, 0.46938776],\n",
       "       [0.51136364, 0.5       ],\n",
       "       [0.52272727, 0.41836735],\n",
       "       [0.52272727, 0.48979592],\n",
       "       [0.53409091, 0.40816327],\n",
       "       [0.53409091, 0.47959184],\n",
       "       [0.53409091, 0.59183673],\n",
       "       [0.53409091, 0.55102041],\n",
       "       [0.53409091, 0.56122449],\n",
       "       [0.53409091, 0.41836735],\n",
       "       [0.54545455, 0.5       ],\n",
       "       [0.54545455, 0.45918367],\n",
       "       [0.54545455, 0.42857143],\n",
       "       [0.54545455, 0.47959184],\n",
       "       [0.54545455, 0.52040816],\n",
       "       [0.54545455, 0.54081633],\n",
       "       [0.55681818, 0.41836735],\n",
       "       [0.55681818, 0.45918367],\n",
       "       [0.56818182, 0.47959184],\n",
       "       [0.56818182, 0.5       ],\n",
       "       [0.56818182, 0.42857143],\n",
       "       [0.56818182, 0.59183673],\n",
       "       [0.59090909, 0.42857143],\n",
       "       [0.59090909, 0.57142857],\n",
       "       [0.59090909, 0.56122449],\n",
       "       [0.59090909, 0.39795918],\n",
       "       [0.61363636, 0.58163265],\n",
       "       [0.61363636, 0.91836735],\n",
       "       [0.625     , 0.28571429],\n",
       "       [0.625     , 0.7755102 ],\n",
       "       [0.63636364, 0.34693878],\n",
       "       [0.63636364, 0.95918367],\n",
       "       [0.63636364, 0.10204082],\n",
       "       [0.63636364, 0.75510204],\n",
       "       [0.63636364, 0.08163265],\n",
       "       [0.63636364, 0.75510204],\n",
       "       [0.64772727, 0.33673469],\n",
       "       [0.64772727, 0.71428571],\n",
       "       [0.65909091, 0.04081633],\n",
       "       [0.65909091, 0.8877551 ],\n",
       "       [0.65909091, 0.06122449],\n",
       "       [0.65909091, 0.73469388],\n",
       "       [0.67045455, 0.09183673],\n",
       "       [0.67045455, 0.7244898 ],\n",
       "       [0.68181818, 0.04081633],\n",
       "       [0.68181818, 0.93877551],\n",
       "       [0.69318182, 0.39795918],\n",
       "       [0.69318182, 0.87755102],\n",
       "       [0.70454545, 0.1122449 ],\n",
       "       [0.70454545, 0.97959184],\n",
       "       [0.70454545, 0.35714286],\n",
       "       [0.70454545, 0.74489796],\n",
       "       [0.71590909, 0.21428571],\n",
       "       [0.71590909, 0.90816327],\n",
       "       [0.71590909, 0.16326531],\n",
       "       [0.71590909, 0.8877551 ],\n",
       "       [0.71590909, 0.19387755],\n",
       "       [0.71590909, 0.76530612],\n",
       "       [0.71590909, 0.15306122],\n",
       "       [0.71590909, 0.89795918],\n",
       "       [0.71590909, 0.        ],\n",
       "       [0.71590909, 0.78571429],\n",
       "       [0.71590909, 0.        ],\n",
       "       [0.71590909, 0.73469388],\n",
       "       [0.72727273, 0.34693878],\n",
       "       [0.72727273, 0.83673469],\n",
       "       [0.75      , 0.04081633],\n",
       "       [0.75      , 0.93877551],\n",
       "       [0.79545455, 0.25510204],\n",
       "       [0.79545455, 0.75510204],\n",
       "       [0.80681818, 0.19387755],\n",
       "       [0.80681818, 0.95918367],\n",
       "       [0.81818182, 0.26530612],\n",
       "       [0.81818182, 0.63265306],\n",
       "       [0.81818182, 0.12244898],\n",
       "       [0.81818182, 0.75510204],\n",
       "       [0.81818182, 0.09183673],\n",
       "       [0.81818182, 0.92857143],\n",
       "       [0.82954545, 0.12244898],\n",
       "       [0.82954545, 0.86734694],\n",
       "       [0.82954545, 0.14285714],\n",
       "       [0.82954545, 0.69387755],\n",
       "       [0.88636364, 0.13265306],\n",
       "       [0.88636364, 0.90816327],\n",
       "       [0.93181818, 0.31632653],\n",
       "       [0.93181818, 0.86734694],\n",
       "       [0.94318182, 0.14285714],\n",
       "       [0.94318182, 0.8877551 ],\n",
       "       [0.95454545, 0.3877551 ],\n",
       "       [0.95454545, 0.97959184],\n",
       "       [0.97727273, 0.23469388],\n",
       "       [0.97727273, 0.68367347],\n",
       "       [1.        , 0.16326531],\n",
       "       [1.        , 0.85714286],\n",
       "       [1.        , 0.2244898 ],\n",
       "       [1.        , 0.69387755]])"
      ]
     },
     "execution_count": 36,
     "metadata": {},
     "output_type": "execute_result"
    }
   ],
   "source": [
    "x"
   ]
  },
  {
   "cell_type": "markdown",
   "id": "fe08d54f",
   "metadata": {},
   "source": [
    "**Let us start with model building**"
   ]
  },
  {
   "cell_type": "code",
   "execution_count": 37,
   "id": "5e8231aa",
   "metadata": {},
   "outputs": [],
   "source": [
    "from sklearn.cluster import KMeans"
   ]
  },
  {
   "cell_type": "markdown",
   "id": "a8234ac2",
   "metadata": {},
   "source": [
    "**Let us start with 3 clusters**"
   ]
  },
  {
   "cell_type": "code",
   "execution_count": 38,
   "id": "30612d5c",
   "metadata": {},
   "outputs": [],
   "source": [
    "km = KMeans(n_clusters=3)"
   ]
  },
  {
   "cell_type": "code",
   "execution_count": 39,
   "id": "a6054d69",
   "metadata": {},
   "outputs": [],
   "source": [
    "y_predicted = km.fit_predict(x)"
   ]
  },
  {
   "cell_type": "code",
   "execution_count": 40,
   "id": "07b66c82",
   "metadata": {},
   "outputs": [
    {
     "data": {
      "text/plain": [
       "array([0, 0, 0, 0, 0, 0, 0, 0, 0, 0, 0, 0, 0, 0, 0, 0, 0, 0, 0, 0, 0, 0,\n",
       "       0, 0, 0, 0, 0, 0, 0, 0, 0, 0, 0, 0, 0, 0, 0, 0, 0, 0, 0, 0, 0, 0,\n",
       "       0, 0, 0, 0, 0, 0, 0, 0, 0, 0, 0, 0, 0, 0, 0, 0, 0, 0, 0, 0, 0, 0,\n",
       "       0, 0, 0, 0, 0, 0, 0, 0, 0, 0, 0, 0, 0, 0, 0, 0, 0, 0, 0, 0, 0, 0,\n",
       "       0, 0, 0, 0, 0, 0, 0, 0, 0, 0, 0, 0, 0, 0, 0, 0, 0, 0, 0, 0, 0, 0,\n",
       "       0, 0, 0, 0, 0, 0, 0, 0, 0, 0, 0, 1, 2, 2, 1, 2, 1, 2, 1, 2, 1, 2,\n",
       "       1, 2, 1, 2, 1, 2, 1, 2, 1, 2, 1, 2, 1, 2, 1, 2, 1, 2, 1, 2, 1, 2,\n",
       "       1, 2, 1, 2, 1, 2, 1, 2, 1, 2, 1, 2, 1, 2, 1, 2, 1, 2, 1, 2, 1, 2,\n",
       "       1, 2, 1, 2, 1, 2, 1, 2, 1, 2, 1, 2, 1, 2, 1, 2])"
      ]
     },
     "execution_count": 40,
     "metadata": {},
     "output_type": "execute_result"
    }
   ],
   "source": [
    "y_predicted"
   ]
  },
  {
   "cell_type": "code",
   "execution_count": 41,
   "id": "327c5f31",
   "metadata": {},
   "outputs": [
    {
     "data": {
      "text/html": [
       "<div>\n",
       "<style scoped>\n",
       "    .dataframe tbody tr th:only-of-type {\n",
       "        vertical-align: middle;\n",
       "    }\n",
       "\n",
       "    .dataframe tbody tr th {\n",
       "        vertical-align: top;\n",
       "    }\n",
       "\n",
       "    .dataframe thead th {\n",
       "        text-align: right;\n",
       "    }\n",
       "</style>\n",
       "<table border=\"1\" class=\"dataframe\">\n",
       "  <thead>\n",
       "    <tr style=\"text-align: right;\">\n",
       "      <th></th>\n",
       "      <th>CustomerID</th>\n",
       "      <th>Gender</th>\n",
       "      <th>Age</th>\n",
       "      <th>Annual Income (k$)</th>\n",
       "      <th>Spending Score (1-100)</th>\n",
       "      <th>cluster</th>\n",
       "    </tr>\n",
       "  </thead>\n",
       "  <tbody>\n",
       "    <tr>\n",
       "      <th>187</th>\n",
       "      <td>188</td>\n",
       "      <td>1</td>\n",
       "      <td>28</td>\n",
       "      <td>101</td>\n",
       "      <td>68.0</td>\n",
       "      <td>2</td>\n",
       "    </tr>\n",
       "    <tr>\n",
       "      <th>188</th>\n",
       "      <td>189</td>\n",
       "      <td>0</td>\n",
       "      <td>41</td>\n",
       "      <td>103</td>\n",
       "      <td>17.0</td>\n",
       "      <td>1</td>\n",
       "    </tr>\n",
       "    <tr>\n",
       "      <th>189</th>\n",
       "      <td>190</td>\n",
       "      <td>0</td>\n",
       "      <td>36</td>\n",
       "      <td>103</td>\n",
       "      <td>85.0</td>\n",
       "      <td>2</td>\n",
       "    </tr>\n",
       "    <tr>\n",
       "      <th>190</th>\n",
       "      <td>191</td>\n",
       "      <td>0</td>\n",
       "      <td>34</td>\n",
       "      <td>103</td>\n",
       "      <td>23.0</td>\n",
       "      <td>1</td>\n",
       "    </tr>\n",
       "    <tr>\n",
       "      <th>191</th>\n",
       "      <td>192</td>\n",
       "      <td>0</td>\n",
       "      <td>32</td>\n",
       "      <td>103</td>\n",
       "      <td>69.0</td>\n",
       "      <td>2</td>\n",
       "    </tr>\n",
       "  </tbody>\n",
       "</table>\n",
       "</div>"
      ],
      "text/plain": [
       "     CustomerID  Gender  Age  Annual Income (k$)  Spending Score (1-100)  \\\n",
       "187         188       1   28                 101                    68.0   \n",
       "188         189       0   41                 103                    17.0   \n",
       "189         190       0   36                 103                    85.0   \n",
       "190         191       0   34                 103                    23.0   \n",
       "191         192       0   32                 103                    69.0   \n",
       "\n",
       "     cluster  \n",
       "187        2  \n",
       "188        1  \n",
       "189        2  \n",
       "190        1  \n",
       "191        2  "
      ]
     },
     "execution_count": 41,
     "metadata": {},
     "output_type": "execute_result"
    }
   ],
   "source": [
    "df['cluster'] = y_predicted\n",
    "df.tail()"
   ]
  },
  {
   "cell_type": "markdown",
   "id": "a1ec6df8",
   "metadata": {},
   "source": [
    "**Location of centres are**"
   ]
  },
  {
   "cell_type": "code",
   "execution_count": 42,
   "id": "6050cfd2",
   "metadata": {},
   "outputs": [
    {
     "name": "stdout",
     "output_type": "stream",
     "text": [
      "Centroids are:  [[0.32682194 0.49773992]\n",
      " [0.76363636 0.18746356]\n",
      " [0.76010101 0.82142857]]\n"
     ]
    }
   ],
   "source": [
    "print(\"Centroids are: \",km.cluster_centers_)"
   ]
  },
  {
   "cell_type": "code",
   "execution_count": 43,
   "id": "c752fc01",
   "metadata": {},
   "outputs": [
    {
     "data": {
      "image/png": "[encoded data removed]",
      "text/plain": [
       "<Figure size 1080x504 with 1 Axes>"
      ]
     },
     "metadata": {
      "needs_background": "light"
     },
     "output_type": "display_data"
    }
   ],
   "source": [
    "y = df.cluster\n",
    "plt.figure(figsize=(15,7))\n",
    "sns.scatterplot(x[y == 0, 0], x[y == 0, 1], color = 'blue', label = 'Cluster 1',s=60)\n",
    "sns.scatterplot(x[y == 1, 0], x[y == 1, 1], color = 'orange', label = 'Cluster 2',s=60)\n",
    "sns.scatterplot(x[y == 2, 0], x[y == 2, 1], color = 'green', label = 'Cluster 3',s=60)\n",
    "sns.scatterplot(km.cluster_centers_[:, 0], km.cluster_centers_[:, 1], color = 'red', label = 'Centroids',s=300,marker='o')\n",
    "plt.grid(False)\n",
    "plt.title('Clusters of customers', fontsize = 16)\n",
    "plt.xlabel('Annual Income (k$)', fontsize = 12)\n",
    "plt.ylabel('Spending Score (1-100)', fontsize = 12)\n",
    "plt.legend()\n",
    "plt.show()"
   ]
  },
  {
   "cell_type": "code",
   "execution_count": null,
   "id": "7c2be04d",
   "metadata": {},
   "outputs": [],
   "source": []
  },
  {
   "cell_type": "markdown",
   "id": "57568ebb",
   "metadata": {},
   "source": [
    "**Elbow plot**"
   ]
  },
  {
   "cell_type": "code",
   "execution_count": 44,
   "id": "bea75653",
   "metadata": {},
   "outputs": [],
   "source": [
    "error = []\n",
    "cou = range(1,20,1)\n",
    "for k in cou:\n",
    "    km = KMeans(n_clusters=k)\n",
    "    km.fit(x)\n",
    "    error.append(km.inertia_)\n",
    "    "
   ]
  },
  {
   "cell_type": "code",
   "execution_count": 45,
   "id": "4ba43b59",
   "metadata": {},
   "outputs": [
    {
     "data": {
      "image/png": "[encoded data removed]",
      "text/plain": [
       "<Figure size 1080x360 with 1 Axes>"
      ]
     },
     "metadata": {
      "needs_background": "light"
     },
     "output_type": "display_data"
    }
   ],
   "source": [
    "plt.figure(figsize = (15,5))\n",
    "plt.plot(cou,error)\n",
    "\n",
    "plt.title('Elbow Plot', fontsize = 20)\n",
    "plt.xlabel('K', fontsize = 16)\n",
    "plt.ylabel('Sum of squared error', fontsize = 16)\n",
    "\n",
    "plt.show()"
   ]
  },
  {
   "cell_type": "markdown",
   "id": "b1b2cc6e",
   "metadata": {},
   "source": [
    "**From this we can say that K=5**"
   ]
  },
  {
   "cell_type": "code",
   "execution_count": 46,
   "id": "607db405",
   "metadata": {},
   "outputs": [
    {
     "data": {
      "text/html": [
       "<div>\n",
       "<style scoped>\n",
       "    .dataframe tbody tr th:only-of-type {\n",
       "        vertical-align: middle;\n",
       "    }\n",
       "\n",
       "    .dataframe tbody tr th {\n",
       "        vertical-align: top;\n",
       "    }\n",
       "\n",
       "    .dataframe thead th {\n",
       "        text-align: right;\n",
       "    }\n",
       "</style>\n",
       "<table border=\"1\" class=\"dataframe\">\n",
       "  <thead>\n",
       "    <tr style=\"text-align: right;\">\n",
       "      <th></th>\n",
       "      <th>CustomerID</th>\n",
       "      <th>Gender</th>\n",
       "      <th>Age</th>\n",
       "      <th>Annual Income (k$)</th>\n",
       "      <th>Spending Score (1-100)</th>\n",
       "      <th>cluster</th>\n",
       "    </tr>\n",
       "  </thead>\n",
       "  <tbody>\n",
       "    <tr>\n",
       "      <th>187</th>\n",
       "      <td>188</td>\n",
       "      <td>1</td>\n",
       "      <td>28</td>\n",
       "      <td>101</td>\n",
       "      <td>68.0</td>\n",
       "      <td>3</td>\n",
       "    </tr>\n",
       "    <tr>\n",
       "      <th>188</th>\n",
       "      <td>189</td>\n",
       "      <td>0</td>\n",
       "      <td>41</td>\n",
       "      <td>103</td>\n",
       "      <td>17.0</td>\n",
       "      <td>0</td>\n",
       "    </tr>\n",
       "    <tr>\n",
       "      <th>189</th>\n",
       "      <td>190</td>\n",
       "      <td>0</td>\n",
       "      <td>36</td>\n",
       "      <td>103</td>\n",
       "      <td>85.0</td>\n",
       "      <td>3</td>\n",
       "    </tr>\n",
       "    <tr>\n",
       "      <th>190</th>\n",
       "      <td>191</td>\n",
       "      <td>0</td>\n",
       "      <td>34</td>\n",
       "      <td>103</td>\n",
       "      <td>23.0</td>\n",
       "      <td>0</td>\n",
       "    </tr>\n",
       "    <tr>\n",
       "      <th>191</th>\n",
       "      <td>192</td>\n",
       "      <td>0</td>\n",
       "      <td>32</td>\n",
       "      <td>103</td>\n",
       "      <td>69.0</td>\n",
       "      <td>3</td>\n",
       "    </tr>\n",
       "  </tbody>\n",
       "</table>\n",
       "</div>"
      ],
      "text/plain": [
       "     CustomerID  Gender  Age  Annual Income (k$)  Spending Score (1-100)  \\\n",
       "187         188       1   28                 101                    68.0   \n",
       "188         189       0   41                 103                    17.0   \n",
       "189         190       0   36                 103                    85.0   \n",
       "190         191       0   34                 103                    23.0   \n",
       "191         192       0   32                 103                    69.0   \n",
       "\n",
       "     cluster  \n",
       "187        3  \n",
       "188        0  \n",
       "189        3  \n",
       "190        0  \n",
       "191        3  "
      ]
     },
     "execution_count": 46,
     "metadata": {},
     "output_type": "execute_result"
    }
   ],
   "source": [
    "km = KMeans(n_clusters=5)\n",
    "y_predicted = km.fit_predict(x)\n",
    "df['cluster'] = y_predicted\n",
    "df.tail()"
   ]
  },
  {
   "cell_type": "code",
   "execution_count": 47,
   "id": "36dfc06f",
   "metadata": {},
   "outputs": [
    {
     "name": "stdout",
     "output_type": "stream",
     "text": [
      "Centroids are:  [[0.76871658 0.18127251]\n",
      " [0.12190083 0.79962894]\n",
      " [0.45017483 0.49924123]\n",
      " [0.76428571 0.82827988]\n",
      " [0.1284585  0.20319432]]\n"
     ]
    }
   ],
   "source": [
    "print(\"Centroids are: \",km.cluster_centers_)"
   ]
  },
  {
   "cell_type": "code",
   "execution_count": 48,
   "id": "998d3b1d",
   "metadata": {},
   "outputs": [
    {
     "data": {
      "image/png": "[encoded data removed]",
      "text/plain": [
       "<Figure size 1080x504 with 1 Axes>"
      ]
     },
     "metadata": {
      "needs_background": "light"
     },
     "output_type": "display_data"
    }
   ],
   "source": [
    "y = df.cluster\n",
    "plt.figure(figsize=(15,7))\n",
    "sns.scatterplot(x[y == 0, 0], x[y == 0, 1], color = 'blue', label = 'Cluster 1',s=60)\n",
    "sns.scatterplot(x[y == 1, 0], x[y == 1, 1], color = 'orange', label = 'Cluster 2',s=60)\n",
    "sns.scatterplot(x[y == 2, 0], x[y == 2, 1], color = 'green', label = 'Cluster 3',s=60)\n",
    "sns.scatterplot(x[y == 3, 0], x[y == 3, 1], color = 'grey', label = 'Cluster 4',s=60)\n",
    "sns.scatterplot(x[y == 4, 0], x[y == 4, 1], color = 'violet', label = 'Cluster 5',s=60)\n",
    "sns.scatterplot(km.cluster_centers_[:, 0], km.cluster_centers_[:, 1], color = 'red', label = 'Centroids',s=300,marker='o')\n",
    "plt.grid(False)\n",
    "plt.title('Clusters of customers', fontsize = 16)\n",
    "plt.xlabel('Annual Income (k$)', fontsize = 12)\n",
    "plt.ylabel('Spending Score (1-100)', fontsize = 12)\n",
    "plt.legend()\n",
    "plt.show()\n"
   ]
  },
  {
   "cell_type": "markdown",
   "id": "8e7e5e6f",
   "metadata": {},
   "source": [
    "**Here we can see that there is correctly clustered the data**"
   ]
  }
 ],
 "metadata": {
  "kernelspec": {
   "display_name": "Python 3",
   "language": "python",
   "name": "python3"
  },
  "language_info": {
   "codemirror_mode": {
    "name": "ipython",
    "version": 3
   },
   "file_extension": ".py",
   "mimetype": "text/x-python",
   "name": "python",
   "nbconvert_exporter": "python",
   "pygments_lexer": "ipython3",
   "version": "3.8.8"
  }
 },
 "nbformat": 4,
 "nbformat_minor": 5
}
